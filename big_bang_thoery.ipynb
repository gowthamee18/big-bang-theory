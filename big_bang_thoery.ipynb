{
  "nbformat": 4,
  "nbformat_minor": 0,
  "metadata": {
    "colab": {
      "provenance": []
    },
    "kernelspec": {
      "name": "python3",
      "display_name": "Python 3"
    },
    "language_info": {
      "name": "python"
    }
  },
  "cells": [
    {
      "cell_type": "code",
      "execution_count": null,
      "metadata": {
        "id": "K-C57dmov-Id"
      },
      "outputs": [],
      "source": [
        "import random"
      ]
    },
    {
      "cell_type": "code",
      "source": [
        "happy = r\"\"\"\n",
        " /\\     /\\\n",
        "(  • w •  )\n",
        " >   ♥   <\n",
        "\"\"\"\n",
        "\n",
        "sad = r\"\"\"\n",
        " /\\     /\\\n",
        "( ；﹏； )\n",
        " >   ^   <\n",
        "\"\"\"\n",
        "\n",
        "confused = r\"\"\"\n",
        " /\\     /\\\n",
        "( • . •? )\n",
        " >  ^   <\n",
        "\"\"\""
      ],
      "metadata": {
        "id": "pGr8Vgd665xJ"
      },
      "execution_count": 46,
      "outputs": []
    },
    {
      "cell_type": "code",
      "source": [
        "print(\"Rules:\\n\"\n",
        "\"- Scissors cut Paper.\\n\"\n",
        "\"- Paper covers Rock.\\n\"\n",
        "\"- Rock crushes Lizard.\\n\"\n",
        "\"- Lizard poisons Spock.\\n\"\n",
        "\"- Spock smashes Scissors.\\n\"\n",
        "\"- Scissors beat Lizard.\\n\"\n",
        "\"- Lizard eats Paper.\\n\"\n",
        "\"- Paper disproves Spock.\\n\"\n",
        "\"- Spock vaporizes Rock.\\n\"\n",
        "\"- Rock breaks Scissors.\")"
      ],
      "metadata": {
        "colab": {
          "base_uri": "https://localhost:8080/"
        },
        "id": "C7R_41-QwTGq",
        "outputId": "47f4864a-e9a5-4d7a-f04e-86f90686b540"
      },
      "execution_count": 48,
      "outputs": [
        {
          "output_type": "stream",
          "name": "stdout",
          "text": [
            "Rules:\n",
            "- Scissors cut Paper.\n",
            "- Paper covers Rock.\n",
            "- Rock crushes Lizard.\n",
            "- Lizard poisons Spock.\n",
            "- Spock smashes Scissors.\n",
            "- Scissors beat Lizard.\n",
            "- Lizard eats Paper.\n",
            "- Paper disproves Spock.\n",
            "- Spock vaporizes Rock.\n",
            "- Rock breaks Scissors.\n"
          ]
        }
      ]
    },
    {
      "cell_type": "code",
      "source": [
        "player = int(input(\"\"\"Enter a number between 1 and 5 \\n\n",
        "1 is for “✊” (Rock)\\n\n",
        "2 is for “✋” (Paper)\\n\n",
        "3 is for “✌🏻” (Scissors)\\n\n",
        "4 is for \"🦎\" (Lizard).\\n\n",
        "5 is for \"🖖\" (Spock)\n",
        "\"\"\"))\n",
        "\n",
        "computer = random.randint(1,5)\n",
        "\n",
        "print(f\"player chose: {player}\")\n",
        "print(f\"computer chose: {computer}\")\n",
        "print()\n",
        "\n",
        "if player == computer:\n",
        "    print(\"Draw\")\n",
        "    print(happy)\n",
        "elif player == 1 and computer == 2:\n",
        "    print(\"Computer chose paper so paper wins over\")\n",
        "    print(sad)\n",
        "elif player == 1 and computer == 3:\n",
        "    print(\"Player chose rock so rock wins over scissors\")\n",
        "    print(happy)\n",
        "elif player == 1 and computer == 4:\n",
        "    print(\"Player chose rock so rock wins over lizard\")\n",
        "    print(happy)\n",
        "elif player == 1 and computer == 5:\n",
        "    print(\"Computer chose spock so spock wins over rock\")\n",
        "    print(sad)\n",
        "\n",
        "elif player == 2 and computer == 1:\n",
        "    print(\"Player chose paper so paper wins over rock\")\n",
        "    print(happy)\n",
        "elif player == 2 and computer == 3:\n",
        "    print(\"Computer chose scissors, so scissors wins over paper\")\n",
        "    print(sad)\n",
        "elif player == 2 and computer == 4:\n",
        "    print(\"Computer chose lizard so lizard wins over paper\")\n",
        "    print(sad)\n",
        "elif player == 2 and computer == 5:\n",
        "    print(\"Player chose paper so paper wins over spock\")\n",
        "    print(happy)\n",
        "\n",
        "elif player == 3 and computer == 1:\n",
        "    print(\"Computer chose rock so rock wins over scissors\")\n",
        "    print(sad)\n",
        "elif player == 3 and computer == 2:\n",
        "    print(\"Computer chose paper so paper wins over scissors\")\n",
        "    print(happy)\n",
        "elif player == 3 and computer == 4:\n",
        "    print(\"Player chose scissors so scissors wins over lizard\")\n",
        "    print(happy)\n",
        "elif player == 3 and computer == 5:\n",
        "    print(\"Computer chose spock so spock wins over scissors\")\n",
        "    print(sad)\n",
        "else:\n",
        "  print(\"invalid number...try again!\")\n",
        "  print(confused)\n",
        "\n"
      ],
      "metadata": {
        "id": "mdObilSFwSzu",
        "colab": {
          "base_uri": "https://localhost:8080/"
        },
        "outputId": "7f7b86cc-e87b-4294-8a8d-0d4a761b4148"
      },
      "execution_count": 49,
      "outputs": [
        {
          "output_type": "stream",
          "name": "stdout",
          "text": [
            "Enter a number between 1 and 5 \n",
            "\"\n",
            "1 is for “✊” (Rock)\n",
            "\n",
            "2 is for “✋” (Paper)\n",
            "\n",
            "3 is for “✌🏻” (Scissors)\n",
            "\n",
            "4 is for \"🦎\" (Lizard).\n",
            "\n",
            "5 is for \"🖖\" (Spock)\n",
            "1\n",
            "player chose: 1\n",
            "computer chose: 1\n",
            "\n",
            "Draw\n",
            "\n",
            " /\\     /\\\n",
            "(  • w •  )\n",
            " >   ♥   <\n",
            "\n"
          ]
        }
      ]
    },
    {
      "cell_type": "code",
      "source": [],
      "metadata": {
        "id": "J8qNJ_MkwSm8",
        "colab": {
          "base_uri": "https://localhost:8080/"
        },
        "outputId": "4e4d66ab-51f9-4987-958e-db9af6d1ac89"
      },
      "execution_count": 45,
      "outputs": [
        {
          "output_type": "stream",
          "name": "stdout",
          "text": [
            "player chose: 1\n",
            "computer chose: 1\n",
            "\n",
            "Draw\n",
            "\n",
            " /\\     /\\\n",
            "(  • w •  )\n",
            " >   ♥   <\n",
            "\n"
          ]
        }
      ]
    },
    {
      "cell_type": "code",
      "source": [],
      "metadata": {
        "id": "ig5XRMdsv-4R"
      },
      "execution_count": null,
      "outputs": []
    },
    {
      "cell_type": "code",
      "source": [],
      "metadata": {
        "id": "Z1_PKQzQv-1c"
      },
      "execution_count": null,
      "outputs": []
    },
    {
      "cell_type": "code",
      "source": [],
      "metadata": {
        "id": "oeYXY1r1v-zS"
      },
      "execution_count": null,
      "outputs": []
    },
    {
      "cell_type": "code",
      "source": [],
      "metadata": {
        "id": "PabP1-nvv-wj"
      },
      "execution_count": null,
      "outputs": []
    },
    {
      "cell_type": "code",
      "source": [],
      "metadata": {
        "id": "ZpWThDEav-ue"
      },
      "execution_count": null,
      "outputs": []
    },
    {
      "cell_type": "code",
      "source": [],
      "metadata": {
        "id": "ujPlD5HYv-r2"
      },
      "execution_count": null,
      "outputs": []
    },
    {
      "cell_type": "code",
      "source": [],
      "metadata": {
        "id": "aIMzhc6dv-pZ"
      },
      "execution_count": null,
      "outputs": []
    }
  ]
}
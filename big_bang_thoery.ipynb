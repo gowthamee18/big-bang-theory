{
  "nbformat": 4,
  "nbformat_minor": 0,
  "metadata": {
    "colab": {
      "provenance": []
    },
    "kernelspec": {
      "name": "python3",
      "display_name": "Python 3"
    },
    "language_info": {
      "name": "python"
    }
  },
  "cells": [
    {
      "cell_type": "code",
      "execution_count": null,
      "metadata": {
        "id": "K-C57dmov-Id"
      },
      "outputs": [],
      "source": [
        "import random"
      ]
    },
    {
      "cell_type": "code",
      "source": [
        "happy = r\"\"\"\n",
        " /\\     /\\\n",
        "(  • w •  )\n",
        " >   ♥   <\n",
        "\"\"\"\n",
        "\n",
        "sad = r\"\"\"\n",
        " /\\     /\\\n",
        "( ；﹏； )\n",
        " >   ^   <\n",
        "\"\"\"\n",
        "\n",
        "confused = r\"\"\"\n",
        " /\\     /\\\n",
        "( • . •? )\n",
        " >  ^   <\n",
        "\"\"\""
      ],
      "metadata": {
        "id": "pGr8Vgd665xJ"
      },
      "execution_count": null,
      "outputs": []
    },
    {
      "cell_type": "code",
      "source": [
        "print(\"Rules:\\n\"\n",
        "\"- Scissors cut Paper.\\n\"\n",
        "\"- Paper covers Rock.\\n\"\n",
        "\"- Rock crushes Lizard.\\n\"\n",
        "\"- Lizard poisons Spock.\\n\"\n",
        "\"- Spock smashes Scissors.\\n\"\n",
        "\"- Scissors beat Lizard.\\n\"\n",
        "\"- Lizard eats Paper.\\n\"\n",
        "\"- Paper disproves Spock.\\n\"\n",
        "\"- Spock vaporizes Rock.\\n\"\n",
        "\"- Rock breaks Scissors.\")"
      ],
      "metadata": {
        "colab": {
          "base_uri": "https://localhost:8080/"
        },
        "id": "C7R_41-QwTGq",
        "outputId": "47f4864a-e9a5-4d7a-f04e-86f90686b540"
      },
      "execution_count": null,
      "outputs": [
        {
          "output_type": "stream",
          "name": "stdout",
          "text": [
            "Rules:\n",
            "- Scissors cut Paper.\n",
            "- Paper covers Rock.\n",
            "- Rock crushes Lizard.\n",
            "- Lizard poisons Spock.\n",
            "- Spock smashes Scissors.\n",
            "- Scissors beat Lizard.\n",
            "- Lizard eats Paper.\n",
            "- Paper disproves Spock.\n",
            "- Spock vaporizes Rock.\n",
            "- Rock breaks Scissors.\n"
          ]
        }
      ]
    },
    {
      "cell_type": "code",
      "source": [
        "player = int(input(\"\"\"Enter a number between 1 and 5:\n",
        "1 is for “✊” (Rock)\n",
        "2 is for “✋” (Paper)\n",
        "3 is for “✌🏻” (Scissors)\n",
        "4 is for \"🦎\" (Lizard)\n",
        "5 is for \"🖖\" (Spock)\n",
        "→ Your choice: \"\"\"))\n",
        "\n",
        "\n",
        "computer = random.randint(1,5)\n",
        "\n",
        "\n",
        "print(f\"\\nPlayer chose: {player}\")\n",
        "print(f\"Computer chose: {computer}\\n\")\n",
        "print()\n",
        "\n",
        "if player == computer:\n",
        "    print(\"It's a draw!\")\n",
        "    print(happy)\n",
        "\n",
        "elif player == 1 and computer == 2:\n",
        "    print(\"Computer chose paper—paper covers rock.\")\n",
        "    print(sad)\n",
        "elif player == 1 and computer == 3:\n",
        "    print(\"Rock crushes scissors—player wins!\")\n",
        "    print(happy)\n",
        "elif player == 1 and computer == 4:\n",
        "    print(\"Rock crushes lizard—player wins!\")\n",
        "    print(happy)\n",
        "elif player == 1 and computer == 5:\n",
        "    print(\"Spock vaporizes rock—computer wins!\")\n",
        "    print(sad)\n",
        "\n",
        "elif player == 2 and computer == 1:\n",
        "    print(\"Paper covers rock—player wins!\")\n",
        "    print(happy)\n",
        "elif player == 2 and computer == 3:\n",
        "    print(\"Scissors cut paper—computer wins!\")\n",
        "    print(sad)\n",
        "elif player == 2 and computer == 4:\n",
        "    print(\"Lizard eats paper—computer wins!\")\n",
        "    print(sad)\n",
        "elif player == 2 and computer == 5:\n",
        "    print(\"Paper disproves Spock—player wins!\")\n",
        "    print(happy)\n",
        "\n",
        "elif player == 3 and computer == 1:\n",
        "    print(\"Rock crushes scissors—computer wins!\")\n",
        "    print(sad)\n",
        "elif player == 3 and computer == 2:\n",
        "    print(\"Scissors cut paper—player wins!\")\n",
        "    print(happy)\n",
        "elif player == 3 and computer == 4:\n",
        "    print(\"Scissors decapitate lizard—player wins!\")\n",
        "    print(happy)\n",
        "elif player == 3 and computer == 5:\n",
        "    print(\"Spock smashes scissors—computer wins!\")\n",
        "    print(sad)\n",
        "\n",
        "elif player == 4 and computer == 1:\n",
        "    print(\"Rock crushes lizard—computer wins!\")\n",
        "    print(sad)\n",
        "elif player == 4 and computer == 2:\n",
        "    print(\"Lizard eats paper—player wins!\")\n",
        "    print(happy)\n",
        "elif player == 4 and computer == 3:\n",
        "    print(\"Scissors decapitate lizard—computer wins!\")\n",
        "    print(sad)\n",
        "elif player == 4 and computer == 5:\n",
        "    print(\"Lizard poisons Spock—player wins!\")\n",
        "    print(happy)\n",
        "\n",
        "elif player == 5 and computer == 1:\n",
        "    print(\"Spock vaporizes rock—player wins!\")\n",
        "    print(happy)\n",
        "elif player == 5 and computer == 2:\n",
        "    print(\"Paper disproves Spock—computer wins!\")\n",
        "    print(sad)\n",
        "elif player == 5 and computer == 3:\n",
        "    print(\"Spock smashes scissors—player wins!\")\n",
        "    print(happy)\n",
        "elif player == 5 and computer == 4:\n",
        "    print(\"Lizard poisons Spock—computer wins!\")\n",
        "    print(sad)\n",
        "\n",
        "else:\n",
        "    print(\"Invalid number...try again!\")\n",
        "    print(confused)"
      ],
      "metadata": {
        "id": "mdObilSFwSzu",
        "colab": {
          "base_uri": "https://localhost:8080/"
        },
        "outputId": "f70ef1cc-3946-4332-fcd7-5af564a79ce3"
      },
      "execution_count": 66,
      "outputs": [
        {
          "output_type": "stream",
          "name": "stdout",
          "text": [
            "Enter a number between 1 and 5:  \n",
            "1 is for “✊” (Rock)  \n",
            "2 is for “✋” (Paper)  \n",
            "3 is for “✌🏻” (Scissors)  \n",
            "4 is for \"🦎\" (Lizard)  \n",
            "5 is for \"🖖\" (Spock)  \n",
            "→ Your choice: 5\n",
            "\n",
            "Player chose: 5\n",
            "Computer chose: 2\n",
            "\n",
            "\n",
            "Paper disproves Spock—computer wins!\n",
            "\n",
            " /\\     /\\\n",
            "( ；﹏； )\n",
            " >   ^   <\n",
            "\n"
          ]
        }
      ]
    }
  ]
}
{
  "nbformat": 4,
  "nbformat_minor": 0,
  "metadata": {
    "colab": {
      "provenance": []
    },
    "kernelspec": {
      "name": "python3",
      "display_name": "Python 3"
    },
    "language_info": {
      "name": "python"
    }
  },
  "cells": [
    {
      "cell_type": "code",
      "execution_count": null,
      "metadata": {
        "id": "K-C57dmov-Id"
      },
      "outputs": [],
      "source": [
        "import random"
      ]
    },
    {
      "cell_type": "code",
      "source": [
        "happy = r\"\"\"\n",
        " /\\     /\\\n",
        "(  • w •  )\n",
        " >   ♥   <\n",
        "\"\"\"\n",
        "\n",
        "sad = r\"\"\"\n",
        " /\\     /\\\n",
        "( ；﹏； )\n",
        " >   ^   <\n",
        "\"\"\"\n",
        "\n",
        "confused = r\"\"\"\n",
        " /\\     /\\\n",
        "( • . •? )\n",
        " >  ^   <\n",
        "\"\"\""
      ],
      "metadata": {
        "id": "pGr8Vgd665xJ"
      },
      "execution_count": 46,
      "outputs": []
    },
    {
      "cell_type": "code",
      "source": [
        "print(\"Rules:\\n\"\n",
        "\"- Scissors cut Paper.\\n\"\n",
        "\"- Paper covers Rock.\\n\"\n",
        "\"- Rock crushes Lizard.\\n\"\n",
        "\"- Lizard poisons Spock.\\n\"\n",
        "\"- Spock smashes Scissors.\\n\"\n",
        "\"- Scissors beat Lizard.\\n\"\n",
        "\"- Lizard eats Paper.\\n\"\n",
        "\"- Paper disproves Spock.\\n\"\n",
        "\"- Spock vaporizes Rock.\\n\"\n",
        "\"- Rock breaks Scissors.\")"
      ],
      "metadata": {
        "colab": {
          "base_uri": "https://localhost:8080/"
        },
        "id": "C7R_41-QwTGq",
        "outputId": "47f4864a-e9a5-4d7a-f04e-86f90686b540"
      },
      "execution_count": 48,
      "outputs": [
        {
          "output_type": "stream",
          "name": "stdout",
          "text": [
            "Rules:\n",
            "- Scissors cut Paper.\n",
            "- Paper covers Rock.\n",
            "- Rock crushes Lizard.\n",
            "- Lizard poisons Spock.\n",
            "- Spock smashes Scissors.\n",
            "- Scissors beat Lizard.\n",
            "- Lizard eats Paper.\n",
            "- Paper disproves Spock.\n",
            "- Spock vaporizes Rock.\n",
            "- Rock breaks Scissors.\n"
          ]
        }
      ]
    },
    {
      "cell_type": "code",
      "source": [
        "player = int(input(\"\"\"Enter a number between 1 and 5 \\n\n",
        "1 is for “✊” (Rock)\\n\n",
        "2 is for “✋” (Paper)\\n\n",
        "3 is for “✌🏻” (Scissors)\\n\n",
        "4 is for \"🦎\" (Lizard).\\n\n",
        "5 is for \"🖖\" (Spock)\n",
        "\"\"\"))\n",
        "\n",
        "computer = random.randint(1,5)\n",
        "\n",
        "print(f\"player chose: {player}\")\n",
        "print(f\"computer chose: {computer}\")\n",
        "print()\n",
        "\n",
        "if player == computer:\n",
        "    print(\"Draw\")\n",
        "    print(happy)\n",
        "elif player == 1 and computer == 2:\n",
        "    print(\"Computer chose paper so paper wins over\")\n",
        "    print(sad)\n",
        "elif player == 1 and computer == 3:\n",
        "    print(\"Player chose rock so rock wins over scissors\")\n",
        "    print(happy)\n",
        "elif player == 1 and computer == 4:\n",
        "    print(\"Player chose rock so rock wins over lizard\")\n",
        "    print(happy)\n",
        "elif player == 1 and computer == 5:\n",
        "    print(\"Computer chose spock so spock wins over rock\")\n",
        "    print(sad)\n",
        "\n",
        "elif player == 2 and computer == 1:\n",
        "    print(\"Player chose paper so paper wins over rock\")\n",
        "    print(happy)\n",
        "elif player == 2 and computer == 3:\n",
        "    print(\"Computer chose scissors, so scissors wins over paper\")\n",
        "    print(sad)\n",
        "elif player == 2 and computer == 4:\n",
        "    print(\"Computer chose lizard so lizard wins over paper\")\n",
        "    print(sad)\n",
        "elif player == 2 and computer == 5:\n",
        "    print(\"Player chose paper so paper wins over spock\")\n",
        "    print(happy)\n",
        "\n",
        "elif player == 3 and computer == 1:\n",
        "    print(\"Computer chose rock so rock wins over scissors\")\n",
        "    print(sad)\n",
        "elif player == 3 and computer == 2:\n",
        "    print(\"Computer chose paper so paper wins over scissors\")\n",
        "    print(happy)\n",
        "elif player == 3 and computer == 4:\n",
        "    print(\"Player chose scissors so scissors wins over lizard\")\n",
        "    print(happy)\n",
        "elif player == 3 and computer == 5:\n",
        "    print(\"Computer chose spock so spock wins over scissors\")\n",
        "    print(sad)\n",
        "\n",
        "elif player == 4 and computer == 1:\n",
        "    print(\"Computer chose rock so rock wins over lizard\")\n",
        "    print(sad)\n",
        "elif player == 4 and computer == 2:\n",
        "    print(\"Player chose lizard so lizard wins over paper\")\n",
        "    print(happy)\n",
        "elif player == 4 and computer == 3:\n",
        "    print(\"Computer chose scissors so scissors wins over lizard\")\n",
        "    print(sad)\n",
        "elif player == 4 and computer == 5:\n",
        "    print(\"Computer chose spock so spock wins over lizard\")\n",
        "    print(sad)\n",
        "\n",
        "elif player == 5 and computer == 1:\n",
        "    print(\"Player chose spock so spock wins over rock\")\n",
        "    print(happy)\n",
        "elif player == 5 and computer == 2:\n",
        "    print(\"Computer chose paper so paper wins over spock\")\n",
        "    print(sad)\n",
        "elif player == 5 and computer == 3:\n",
        "    print(\"Computer chose scissors so scissors wins over spock\")\n",
        "    print(sad)\n",
        "elif player == 5 and computer == 4:\n",
        "    print(\"Computer chose lizard so lizard wins over spock\")\n",
        "    print(sad)\n",
        "\n",
        "else:\n",
        "  print(\"invalid number...try again!\")\n",
        "  print(confused)\n",
        "\n"
      ],
      "metadata": {
        "id": "mdObilSFwSzu",
        "colab": {
          "base_uri": "https://localhost:8080/"
        },
        "outputId": "0d6c8e36-4fb5-42d9-e078-9f4d1956a5b4"
      },
      "execution_count": 57,
      "outputs": [
        {
          "output_type": "stream",
          "name": "stdout",
          "text": [
            "Enter a number between 1 and 5 \n",
            "\n",
            "1 is for “✊” (Rock)\n",
            "\n",
            "2 is for “✋” (Paper)\n",
            "\n",
            "3 is for “✌🏻” (Scissors)\n",
            "\n",
            "4 is for \"🦎\" (Lizard).\n",
            "\n",
            "5 is for \"🖖\" (Spock)\n",
            "5\n",
            "player chose: 5\n",
            "computer chose: 1\n",
            "\n",
            "Player chose spock so spock wins over rock\n",
            "\n",
            " /\\     /\\\n",
            "(  • w •  )\n",
            " >   ♥   <\n",
            "\n"
          ]
        }
      ]
    }
  ]
}